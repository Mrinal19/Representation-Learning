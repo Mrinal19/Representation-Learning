{
  "nbformat": 4,
  "nbformat_minor": 0,
  "metadata": {
    "colab": {
      "provenance": [],
      "include_colab_link": true
    },
    "kernelspec": {
      "name": "python3",
      "display_name": "Python 3"
    },
    "language_info": {
      "name": "python"
    }
  },
  "cells": [
    {
      "cell_type": "markdown",
      "metadata": {
        "id": "view-in-github",
        "colab_type": "text"
      },
      "source": [
        "<a href=\"https://colab.research.google.com/github/Mrinal19/Representation-Learning/blob/main/PCA.ipynb\" target=\"_parent\"><img src=\"https://colab.research.google.com/assets/colab-badge.svg\" alt=\"Open In Colab\"/></a>"
      ]
    },
    {
      "cell_type": "markdown",
      "source": [
        "**PCA**\n",
        "Principal Component Analysis (PCA) is a simple yet popular and useful linear transformation technique."
      ],
      "metadata": {
        "id": "WzT9EivYdgjW"
      }
    },
    {
      "cell_type": "code",
      "source": [
        "import numpy as np \n",
        "import pandas as pd\n",
        "import matplotlib.pyplot as plt\n",
        "import math\n",
        "%matplotlib inline\n",
        "\n",
        "df = pd.read_csv('https://archive.ics.uci.edu/ml/machine-learning-databases/iris/iris.data')\n",
        "df.columns=['Sepal_Length', 'Sepal_Width', 'Petal_Length', 'Petal_Width', 'Class']\n",
        "df.head()\n",
        "\n",
        "#Splitting the data into data 'x' and class label 'y'\n",
        "x = df.iloc[:,0:4].values\n",
        "y = df.iloc[:,4].values\n",
        "\n",
        "#Standardizing the data values\n",
        "from sklearn.preprocessing import StandardScaler\n",
        "x_std = StandardScaler().fit_transform(x)\n",
        "\n",
        "#Computing Covariance Matrix\n",
        "mean = np.mean(x_std, axis = 0)\n",
        "cov_mat = (x_std - mean).T.dot((x_std - mean))/ (x_std.shape[0]-1)\n",
        "print(\"Covariance Matrix: \\n\", cov_mat)\n",
        "\n",
        "#Calculating Eigen-values/vectors\n",
        "cov_mat = np.cov(x_std.T)\n",
        "eigen_val, eigen_vec = np.linalg.eig(cov_mat) #linalg calculate the multiplicative inverse of the input matrix\n",
        "\n",
        "print(\"\\n Eigenvectors: \\n\", eigen_vec)\n",
        "print('\\n Eigenvalues: \\n', eigen_val)\n",
        "\n",
        "# Make a list of (eigenvalue, eigenvector) tuples\n",
        "eig_pairs = [(np.abs(eigen_val[i]), eigen_vec[:,i]) for i in range(len(eigen_val))]\n",
        "\n",
        "# Sort the (eigenvalue, eigenvector) tuples from high to low\n",
        "eig_pairs.sort(key=lambda x: x[0], reverse=True)\n",
        "\n",
        "print('\\n Eigenvalues in descending order:')\n",
        "for i in eig_pairs:\n",
        "    print(i[0])\n",
        "\n",
        "matrix = np.hstack((eig_pairs[0][1].reshape(4,1),\n",
        "                      eig_pairs[1][1].reshape(4,1)))\n",
        "\n",
        "print('\\n Computed Matrix W:\\n', matrix)\n",
        "print(\" \")\n",
        "\n",
        "#Making Plot of PCA\n",
        "with plt.style.context('seaborn-whitegrid'):\n",
        "  plt.figure(figsize=(6, 6))\n",
        "  for lab, col in zip(('Iris-setosa', 'Iris-versicolor', 'Iris-virginica'),\n",
        "                      ('blue', 'red', 'green')):\n",
        "      Y = x_std.dot(matrix)\n",
        "      plt.scatter(Y[y==lab, 0],\n",
        "                  Y[y==lab, 1],\n",
        "                  label=lab,\n",
        "                  c=col)\n",
        "  plt.xlabel('Principal Component 1')\n",
        "  plt.ylabel('Principal Component 2')\n",
        "  plt.legend(loc='lower center')\n",
        "  plt.show()"
      ],
      "metadata": {
        "colab": {
          "base_uri": "https://localhost:8080/",
          "height": 877
        },
        "id": "A5wremliv0Pb",
        "outputId": "d6502edb-e622-4356-aca8-626b2bc0175b"
      },
      "execution_count": null,
      "outputs": [
        {
          "output_type": "stream",
          "name": "stdout",
          "text": [
            "Covariance Matrix: \n",
            " [[ 1.00675676 -0.10448539  0.87716999  0.82249094]\n",
            " [-0.10448539  1.00675676 -0.41802325 -0.35310295]\n",
            " [ 0.87716999 -0.41802325  1.00675676  0.96881642]\n",
            " [ 0.82249094 -0.35310295  0.96881642  1.00675676]]\n",
            "\n",
            " Eigenvectors: \n",
            " [[ 0.52308496 -0.36956962 -0.72154279  0.26301409]\n",
            " [-0.25956935 -0.92681168  0.2411952  -0.12437342]\n",
            " [ 0.58184289 -0.01912775  0.13962963 -0.80099722]\n",
            " [ 0.56609604 -0.06381646  0.63380158  0.52321917]]\n",
            "\n",
            " Eigenvalues: \n",
            " [2.92442837 0.93215233 0.14946373 0.02098259]\n",
            "\n",
            " Eigenvalues in descending order:\n",
            "2.9244283691111117\n",
            "0.9321523302535063\n",
            "0.14946373489813355\n",
            "0.020982592764270655\n",
            "\n",
            " Computed Matrix W:\n",
            " [[ 0.52308496 -0.36956962]\n",
            " [-0.25956935 -0.92681168]\n",
            " [ 0.58184289 -0.01912775]\n",
            " [ 0.56609604 -0.06381646]]\n",
            " \n"
          ]
        },
        {
          "output_type": "display_data",
          "data": {
            "text/plain": [
              "<Figure size 432x432 with 1 Axes>"
            ],
            "image/png": "[encoded data removed]"
          },
          "metadata": {}
        }
      ]
    },
    {
      "cell_type": "markdown",
      "source": [
        "**LDA:**\n",
        "Linear Discriminant Analysis (LDA) is most commonly used as dimensionality reduction technique in the pre-processing step for pattern-classification and machine learning applications. "
      ],
      "metadata": {
        "id": "yyEp7BrkcKw6"
      }
    },
    {
      "cell_type": "code",
      "source": [
        "import pandas as pd\n",
        "import numpy as np\n",
        "\n",
        "feature_dict = {i:label for i,label in zip(\n",
        "                range(4),\n",
        "                  ('sepal length in cm',\n",
        "                  'sepal width in cm',\n",
        "                  'petal length in cm',\n",
        "                  'petal width in cm', ))}\n",
        "\n",
        "df = pd.read_csv('https://archive.ics.uci.edu/ml/machine-learning-databases/iris/iris.data')\n",
        "df.columns = [l for i,l in sorted(feature_dict.items())] + ['class label']\n",
        "df.dropna(how=\"all\", inplace=True) # to drop the empty line at file-end\n",
        "df.tail()\n",
        "\n",
        "url=\"https://archive.ics.uci.edu/ml/machine-learning-databases/iris/iris.data\"\n",
        "dataset = pd.read_csv(url)\n",
        "\n",
        "from sklearn.preprocessing import LabelEncoder\n",
        "x = dataset.iloc[:,0:4].values\n",
        "y = dataset.iloc[:,4].values\n",
        "\n",
        "#Encoding Data and labels\n",
        "enc = LabelEncoder()\n",
        "label_encoder = enc.fit(y)\n",
        "y = label_encoder.transform(y) + 1\n",
        "\n",
        "label_dict = {1: 'Setosa', 2: 'Versicolor', 3:'Virginica'}\n",
        "\n",
        "np.set_printoptions(precision=4)\n",
        "\n",
        "mean_vectors = []\n",
        "for cl in range(1,4):\n",
        "    mean_vectors.append(np.mean(x[y==cl], axis=0))\n",
        "    print('Mean Vector class%s: %s\\n' %(cl, mean_vectors[cl-1]))\n",
        "\n",
        "S_W = np.zeros((4,4))\n",
        "for cl,mv in zip(range(1,4), mean_vectors):\n",
        "    class_sc_mat = np.zeros((4,4))                  # scatter matrix for every class\n",
        "    for row in x[y == cl]:\n",
        "        row, mv = row.reshape(4,1), mv.reshape(4,1) # make column vectors\n",
        "        class_sc_mat += (row-mv).dot((row-mv).T)\n",
        "    S_W += class_sc_mat                             # sum class scatter matrices\n",
        "print('Within-class Scatter Matrix:\\n', S_W)\n",
        "\n",
        "overall_mean = np.mean(x, axis=0)\n",
        "\n",
        "S_B = np.zeros((4,4))\n",
        "for i,mean_vec in enumerate(mean_vectors):  \n",
        "    n = x[y==i+1,:].shape[0]\n",
        "    mean_vec = mean_vec.reshape(4,1) # make column vector\n",
        "    overall_mean = overall_mean.reshape(4,1) # make column vector\n",
        "    S_B += n * (mean_vec - overall_mean).dot((mean_vec - overall_mean).T)\n",
        "\n",
        "print('between-class Scatter Matrix:\\n', S_B)\n",
        "\n",
        "eig_vals, eig_vecs = np.linalg.eig(np.linalg.inv(S_W).dot(S_B))\n",
        "\n",
        "for i in range(len(eig_vals)):\n",
        "    eigvec_sc = eig_vecs[:,i].reshape(4,1)   \n",
        "    print('\\nEigenvector {}: \\n{}'.format(i+1, eigvec_sc.real))\n",
        "    print('Eigenvalue {:}: {:.2e}'.format(i+1, eig_vals[i].real))\n",
        "\n",
        " # Make a list of (eigenvalue, eigenvector) tuples\n",
        "eig_pairs = [(np.abs(eig_vals[i]), eig_vecs[:,i]) for i in range(len(eig_vals))]\n",
        "\n",
        "# Sort the (eigenvalue, eigenvector) tuples from high to low\n",
        "eig_pairs = sorted(eig_pairs, key=lambda k: k[0], reverse=True)\n",
        "\n",
        "# Visually confirm that the list is correctly sorted by decreasing eigenvalues\n",
        "\n",
        "print('Eigenvalues in decreasing order:\\n')\n",
        "for i in eig_pairs:\n",
        "    print(i[0]) \n",
        "\n",
        "W = np.hstack((eig_pairs[0][1].reshape(4,1), eig_pairs[1][1].reshape(4,1)))\n",
        "print('Matrix W:\\n', W.real)"
      ],
      "metadata": {
        "colab": {
          "base_uri": "https://localhost:8080/"
        },
        "id": "5kbVmJRAA-dC",
        "outputId": "52058efd-5b3e-4783-c408-bf5eab8a9108"
      },
      "execution_count": null,
      "outputs": [
        {
          "output_type": "stream",
          "name": "stdout",
          "text": [
            "Mean Vector class1: [5.0041 3.4163 1.4653 0.2449]\n",
            "\n",
            "Mean Vector class2: [5.936 2.77  4.26  1.326]\n",
            "\n",
            "Mean Vector class3: [6.588 2.974 5.552 2.026]\n",
            "\n",
            "Within-class Scatter Matrix:\n",
            " [[38.9472 13.6751 24.6201  5.6598]\n",
            " [13.6751 17.0281  8.1254  4.9169]\n",
            " [24.6201  8.1254 27.2158  6.2507]\n",
            " [ 5.6598  4.9169  6.2507  6.1736]]\n",
            "between-class Scatter Matrix:\n",
            " [[ 62.6649 -19.1924 163.3935  70.6115]\n",
            " [-19.1924  10.7842 -55.0015 -22.0477]\n",
            " [163.3935 -55.0015 431.0473 184.5397]\n",
            " [ 70.6115 -22.0477 184.5397  79.6021]]\n",
            "\n",
            "Eigenvector 1: \n",
            "[[-0.2051]\n",
            " [-0.3869]\n",
            " [ 0.5463]\n",
            " [ 0.714 ]]\n",
            "Eigenvalue 1: 3.19e+01\n",
            "\n",
            "Eigenvector 2: \n",
            "[[-0.0084]\n",
            " [-0.5891]\n",
            " [ 0.2545]\n",
            " [-0.7669]]\n",
            "Eigenvalue 2: 2.77e-01\n",
            "\n",
            "Eigenvector 3: \n",
            "[[ 0.7547]\n",
            " [-0.2247]\n",
            " [-0.1994]\n",
            " [-0.2694]]\n",
            "Eigenvalue 3: -1.59e-15\n",
            "\n",
            "Eigenvector 4: \n",
            "[[ 0.7547]\n",
            " [-0.2247]\n",
            " [-0.1994]\n",
            " [-0.2694]]\n",
            "Eigenvalue 4: -1.59e-15\n",
            "Eigenvalues in decreasing order:\n",
            "\n",
            "31.874579396957305\n",
            "0.27693748627003545\n",
            "3.616888026901866e-15\n",
            "3.616888026901866e-15\n",
            "Matrix W:\n",
            " [[-0.2051 -0.0084]\n",
            " [-0.3869 -0.5891]\n",
            " [ 0.5463  0.2545]\n",
            " [ 0.714  -0.7669]]\n"
          ]
        }
      ]
    }
  ]
}